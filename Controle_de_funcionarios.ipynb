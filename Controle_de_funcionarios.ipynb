{
  "nbformat": 4,
  "nbformat_minor": 0,
  "metadata": {
    "colab": {
      "provenance": [],
      "authorship_tag": "ABX9TyNjNYTdTvtd5LztyBUdiGAo",
      "include_colab_link": true
    },
    "kernelspec": {
      "name": "python3",
      "display_name": "Python 3"
    },
    "language_info": {
      "name": "python"
    }
  },
  "cells": [
    {
      "cell_type": "markdown",
      "metadata": {
        "id": "view-in-github",
        "colab_type": "text"
      },
      "source": [
        "<a href=\"https://colab.research.google.com/github/darktherine/ADS/blob/main/Controle_de_funcionarios.ipynb\" target=\"_parent\"><img src=\"https://colab.research.google.com/assets/colab-badge.svg\" alt=\"Open In Colab\"/></a>"
      ]
    },
    {
      "cell_type": "code",
      "source": [
        "#V1.0 Geisla Katherine Alves Silva 20.11.22\n",
        "#Projeto para controle de funcionários"
      ],
      "metadata": {
        "id": "Gv56CB0lbJwr"
      },
      "execution_count": null,
      "outputs": []
    },
    {
      "cell_type": "code",
      "execution_count": null,
      "metadata": {
        "id": "faHklvauHqWs"
      },
      "outputs": [],
      "source": [
        "# Cria as listas de funcionários por área\n",
        "\n",
        "func_rh = [{'Nome': 'Isabella Xavier', 'Gerencia': '01', 'RF': 'RH001'},\n",
        "           {'Nome': 'Maria Silva', 'Gerencia': '01', 'RF': 'RH002'}]\n",
        "\n",
        "func_ti = [{'Nome': 'Paula Alves', 'Gerencia': '02', 'RF': 'TI001'},\n",
        "           {'Nome': 'Ricardo Tavares', 'Gerencia': '02', 'RF': 'TI002'},\n",
        "           {'Nome': 'Gustavo Campos', 'Gerencia': '02', 'RF': 'TI003'}]\n",
        "\n",
        "func_ju = [{'Nome': 'Ana Xavier', 'Gerencia': '03', 'RF': 'JU001'},\n",
        "           {'Nome': 'Mario Silva', 'Gerencia': '03', 'RF': 'JU002'}]\n",
        "\n",
        "            "
      ]
    },
    {
      "cell_type": "code",
      "source": [
        "#Busca a lista de funcionários por área\n",
        "\n",
        "nomeLista = input('Digite o nome da área para consulta: \"RH, TI, JU\" ')\n",
        "\n",
        "if nomeLista == 'RH':\n",
        "  print(func_rh)\n",
        "\n",
        "if nomeLista == 'TI':\n",
        "  print(func_ti)\n",
        "\n",
        "if nomeLista == 'JU':\n",
        "  print(func_ju)\n",
        "\n",
        " \n"
      ],
      "metadata": {
        "colab": {
          "base_uri": "https://localhost:8080/"
        },
        "id": "PC1EIdNMN1zy",
        "outputId": "18ddf878-ac7e-485c-be27-b342bd341a0c"
      },
      "execution_count": null,
      "outputs": [
        {
          "output_type": "stream",
          "name": "stdout",
          "text": [
            "Digite o nome da área para consulta: \"RH, TI, JU\" JU\n",
            "[{'Nome': 'Ana Xavier', 'Gerencia': '03', 'RF': 'JU001'}, {'Nome': 'Mario Silva', 'Gerencia': '03', 'RF': 'JU002'}]\n"
          ]
        }
      ]
    },
    {
      "cell_type": "code",
      "source": [
        "#Cria a lista de funcionários\n",
        "\n",
        "func = ['Isabella Xavier','Maria Silva', 'Paula Alves', 'Ricardo Tavares', 'Gustavo Campos', 'Ana Xavier','Mario Silva']"
      ],
      "metadata": {
        "id": "-97DgeaTN8bb"
      },
      "execution_count": null,
      "outputs": []
    },
    {
      "cell_type": "code",
      "source": [
        "#Chama lista de funcionários\n",
        "\n",
        "func"
      ],
      "metadata": {
        "colab": {
          "base_uri": "https://localhost:8080/"
        },
        "id": "yzWJ42CtdVBL",
        "outputId": "e91397cf-041e-4f94-8197-d39aee601440"
      },
      "execution_count": 77,
      "outputs": [
        {
          "output_type": "execute_result",
          "data": {
            "text/plain": [
              "['Isabella Xavier',\n",
              " 'Maria Silva',\n",
              " 'Paula Alves',\n",
              " 'Ricardo Tavares',\n",
              " 'Gustavo Campos',\n",
              " 'Ana Xavier',\n",
              " 'Mario Silva']"
            ]
          },
          "metadata": {},
          "execution_count": 77
        }
      ]
    },
    {
      "cell_type": "code",
      "source": [
        "#Busca a informação se é ou não funcionário\n",
        "\n",
        "# Input para inserir nome de um funcionário\n",
        "funcionario = input('Entre com nome de um funcionário:')\n",
        "\n",
        "# IF para checar se nome inserido esta na lista de pessoas conhecidas\n",
        "if funcionario in func:  \n",
        "  # Caso esteja na lista printa na tela a mensagem\n",
        "  print('É funcionário da empresa Automatic Easy') \n",
        "# Se não estiver na lista printa a mensagem abaixo\n",
        "else: \n",
        "  print('Não é funcionário da empresa Automatic Easy') "
      ],
      "metadata": {
        "colab": {
          "base_uri": "https://localhost:8080/"
        },
        "id": "4rlY7toVHt-b",
        "outputId": "ed928df9-05e5-4447-ef98-ec6e77342f4f"
      },
      "execution_count": null,
      "outputs": [
        {
          "output_type": "stream",
          "name": "stdout",
          "text": [
            "Entre com nome de um funcionário:Paula Alves\n",
            "É funcionário da empresa Automatic Easy\n"
          ]
        }
      ]
    },
    {
      "cell_type": "code",
      "source": [
        "#Cria a lista de funcionários e suas informações básicas\n",
        "\n",
        "func2 = [{'Nome': 'Isabella Xavier', 'Gerencia': '01', 'RF': 'RH001'},\n",
        "           {'Nome': 'Maria Silva', 'Gerencia': '01', 'RF': 'RH002'},\n",
        "           {'Nome': 'Paula Alves', 'Gerencia': '02', 'RF': 'TI001'},\n",
        "           {'Nome': 'Ricardo Tavares', 'Gerencia': '02', 'RF': 'TI002'},\n",
        "           {'Nome': 'Gustavo Campos', 'Gerencia': '02', 'RF': 'TI003'},\n",
        "           {'Nome': 'Ana Xavier', 'Gerencia': '03', 'RF': 'JU001'},\n",
        "           {'Nome': 'Mario Silva', 'Gerencia': '03', 'RF': 'JU002'}]"
      ],
      "metadata": {
        "id": "v0LMkd0EH6GZ"
      },
      "execution_count": null,
      "outputs": []
    },
    {
      "cell_type": "code",
      "source": [
        "# Procura a área de um funcionário pelo nome\n",
        "\n",
        "pessoa2 = input('Entre com nome de uma pessoa:')\n",
        "\n",
        "naoachou = True\n",
        "\n",
        "for x in func2:\n",
        "  if x['Nome'] == pessoa2:\n",
        "    naoachou = False\n",
        "    if x['Gerencia'] == '01':\n",
        "      print('Gerencia 01 - RH - Recursos Humanos')\n",
        "    elif x['Gerencia'] == '02':\n",
        "      print('Gerencia 02 - TI - Tecnologia da Informação')\n",
        "    elif x['Gerencia'] == '03':\n",
        "      print('Gerencia 03 - JU - Jurídico')\n",
        "\n",
        "if naoachou == True:\n",
        "  print('Tente novamente escrevendo exatamente o nome do funcionário, em caso de dúvidas consulte na lista de funcionários: func')\n",
        "\n"
      ],
      "metadata": {
        "colab": {
          "base_uri": "https://localhost:8080/"
        },
        "id": "-CSrAIQLP1fh",
        "outputId": "1a60b29c-f285-4dc4-d15c-934267f71d79"
      },
      "execution_count": null,
      "outputs": [
        {
          "output_type": "stream",
          "name": "stdout",
          "text": [
            "Entre com nome de uma pessoa:Paula Alves\n",
            "Gerencia 02 - TI - Tecnologia da Informação\n"
          ]
        }
      ]
    }
  ]
}